{
  "nbformat": 4,
  "nbformat_minor": 0,
  "metadata": {
    "colab": {
      "provenance": [],
      "authorship_tag": "ABX9TyN5oCscQP5GDn7ccOqaDBbZ",
      "include_colab_link": true
    },
    "kernelspec": {
      "name": "python3",
      "display_name": "Python 3"
    },
    "language_info": {
      "name": "python"
    }
  },
  "cells": [
    {
      "cell_type": "markdown",
      "metadata": {
        "id": "view-in-github",
        "colab_type": "text"
      },
      "source": [
        "<a href=\"https://colab.research.google.com/github/Rohin107/codingground/blob/master/JKM_LSTM.ipynb\" target=\"_parent\"><img src=\"https://colab.research.google.com/assets/colab-badge.svg\" alt=\"Open In Colab\"/></a>"
      ]
    },
    {
      "cell_type": "code",
      "execution_count": 2,
      "metadata": {
        "id": "jrRM4qYNK464"
      },
      "outputs": [],
      "source": [
        "# import all the required libraries\n",
        "import pandas as pd\n",
        "import numpy as np\n",
        "import math\n",
        "import matplotlib.pyplot as plt\n",
        "from sklearn.model_selection import train_test_split, cross_val_score, GridSearchCV\n",
        "from sklearn.ensemble import RandomForestRegressor\n",
        "from sklearn.preprocessing import MinMaxScaler\n",
        "from sklearn.linear_model import LinearRegression, Lasso, Ridge\n",
        "from sklearn.metrics import mean_absolute_error, mean_squared_error\n",
        "from xgboost import XGBRegressor\n",
        "from keras.models import Sequential\n",
        "from keras.layers import Dense, SimpleRNN, LSTM"
      ]
    },
    {
      "cell_type": "code",
      "source": [
        "df = pd.read_csv('/content/JKM_15122023.csv')\n",
        "df = df.set_index('Date')\n",
        "df.index = pd.to_datetime(df.index, format='%d-%m-%Y')"
      ],
      "metadata": {
        "id": "M9blTstnLyXk"
      },
      "execution_count": 3,
      "outputs": []
    },
    {
      "cell_type": "code",
      "source": [
        "# prompt: rearrange the df in ascending order of date\n",
        "\n",
        "df.sort_index(inplace=True)\n"
      ],
      "metadata": {
        "id": "kX07fV1VPI1M"
      },
      "execution_count": 14,
      "outputs": []
    },
    {
      "cell_type": "code",
      "source": [
        "df.head()"
      ],
      "metadata": {
        "colab": {
          "base_uri": "https://localhost:8080/",
          "height": 237
        },
        "id": "WHVRqyFuMqJj",
        "outputId": "9d0db11a-8dc5-4ae4-ed05-75f22b91f457"
      },
      "execution_count": 15,
      "outputs": [
        {
          "output_type": "execute_result",
          "data": {
            "text/plain": [
              "             JKM\n",
              "Date            \n",
              "2009-02-02  7.00\n",
              "2009-02-03  7.10\n",
              "2009-02-04  7.00\n",
              "2009-02-05  6.90\n",
              "2009-02-06  6.95"
            ],
            "text/html": [
              "\n",
              "  <div id=\"df-d66893be-668a-4abf-a3a3-3a1a87ec3d44\" class=\"colab-df-container\">\n",
              "    <div>\n",
              "<style scoped>\n",
              "    .dataframe tbody tr th:only-of-type {\n",
              "        vertical-align: middle;\n",
              "    }\n",
              "\n",
              "    .dataframe tbody tr th {\n",
              "        vertical-align: top;\n",
              "    }\n",
              "\n",
              "    .dataframe thead th {\n",
              "        text-align: right;\n",
              "    }\n",
              "</style>\n",
              "<table border=\"1\" class=\"dataframe\">\n",
              "  <thead>\n",
              "    <tr style=\"text-align: right;\">\n",
              "      <th></th>\n",
              "      <th>JKM</th>\n",
              "    </tr>\n",
              "    <tr>\n",
              "      <th>Date</th>\n",
              "      <th></th>\n",
              "    </tr>\n",
              "  </thead>\n",
              "  <tbody>\n",
              "    <tr>\n",
              "      <th>2009-02-02</th>\n",
              "      <td>7.00</td>\n",
              "    </tr>\n",
              "    <tr>\n",
              "      <th>2009-02-03</th>\n",
              "      <td>7.10</td>\n",
              "    </tr>\n",
              "    <tr>\n",
              "      <th>2009-02-04</th>\n",
              "      <td>7.00</td>\n",
              "    </tr>\n",
              "    <tr>\n",
              "      <th>2009-02-05</th>\n",
              "      <td>6.90</td>\n",
              "    </tr>\n",
              "    <tr>\n",
              "      <th>2009-02-06</th>\n",
              "      <td>6.95</td>\n",
              "    </tr>\n",
              "  </tbody>\n",
              "</table>\n",
              "</div>\n",
              "    <div class=\"colab-df-buttons\">\n",
              "\n",
              "  <div class=\"colab-df-container\">\n",
              "    <button class=\"colab-df-convert\" onclick=\"convertToInteractive('df-d66893be-668a-4abf-a3a3-3a1a87ec3d44')\"\n",
              "            title=\"Convert this dataframe to an interactive table.\"\n",
              "            style=\"display:none;\">\n",
              "\n",
              "  <svg xmlns=\"http://www.w3.org/2000/svg\" height=\"24px\" viewBox=\"0 -960 960 960\">\n",
              "    <path d=\"M120-120v-720h720v720H120Zm60-500h600v-160H180v160Zm220 220h160v-160H400v160Zm0 220h160v-160H400v160ZM180-400h160v-160H180v160Zm440 0h160v-160H620v160ZM180-180h160v-160H180v160Zm440 0h160v-160H620v160Z\"/>\n",
              "  </svg>\n",
              "    </button>\n",
              "\n",
              "  <style>\n",
              "    .colab-df-container {\n",
              "      display:flex;\n",
              "      gap: 12px;\n",
              "    }\n",
              "\n",
              "    .colab-df-convert {\n",
              "      background-color: #E8F0FE;\n",
              "      border: none;\n",
              "      border-radius: 50%;\n",
              "      cursor: pointer;\n",
              "      display: none;\n",
              "      fill: #1967D2;\n",
              "      height: 32px;\n",
              "      padding: 0 0 0 0;\n",
              "      width: 32px;\n",
              "    }\n",
              "\n",
              "    .colab-df-convert:hover {\n",
              "      background-color: #E2EBFA;\n",
              "      box-shadow: 0px 1px 2px rgba(60, 64, 67, 0.3), 0px 1px 3px 1px rgba(60, 64, 67, 0.15);\n",
              "      fill: #174EA6;\n",
              "    }\n",
              "\n",
              "    .colab-df-buttons div {\n",
              "      margin-bottom: 4px;\n",
              "    }\n",
              "\n",
              "    [theme=dark] .colab-df-convert {\n",
              "      background-color: #3B4455;\n",
              "      fill: #D2E3FC;\n",
              "    }\n",
              "\n",
              "    [theme=dark] .colab-df-convert:hover {\n",
              "      background-color: #434B5C;\n",
              "      box-shadow: 0px 1px 3px 1px rgba(0, 0, 0, 0.15);\n",
              "      filter: drop-shadow(0px 1px 2px rgba(0, 0, 0, 0.3));\n",
              "      fill: #FFFFFF;\n",
              "    }\n",
              "  </style>\n",
              "\n",
              "    <script>\n",
              "      const buttonEl =\n",
              "        document.querySelector('#df-d66893be-668a-4abf-a3a3-3a1a87ec3d44 button.colab-df-convert');\n",
              "      buttonEl.style.display =\n",
              "        google.colab.kernel.accessAllowed ? 'block' : 'none';\n",
              "\n",
              "      async function convertToInteractive(key) {\n",
              "        const element = document.querySelector('#df-d66893be-668a-4abf-a3a3-3a1a87ec3d44');\n",
              "        const dataTable =\n",
              "          await google.colab.kernel.invokeFunction('convertToInteractive',\n",
              "                                                    [key], {});\n",
              "        if (!dataTable) return;\n",
              "\n",
              "        const docLinkHtml = 'Like what you see? Visit the ' +\n",
              "          '<a target=\"_blank\" href=https://colab.research.google.com/notebooks/data_table.ipynb>data table notebook</a>'\n",
              "          + ' to learn more about interactive tables.';\n",
              "        element.innerHTML = '';\n",
              "        dataTable['output_type'] = 'display_data';\n",
              "        await google.colab.output.renderOutput(dataTable, element);\n",
              "        const docLink = document.createElement('div');\n",
              "        docLink.innerHTML = docLinkHtml;\n",
              "        element.appendChild(docLink);\n",
              "      }\n",
              "    </script>\n",
              "  </div>\n",
              "\n",
              "\n",
              "<div id=\"df-8c0cf4f3-c6b2-4cdf-ba0e-edc31d7cf0e5\">\n",
              "  <button class=\"colab-df-quickchart\" onclick=\"quickchart('df-8c0cf4f3-c6b2-4cdf-ba0e-edc31d7cf0e5')\"\n",
              "            title=\"Suggest charts\"\n",
              "            style=\"display:none;\">\n",
              "\n",
              "<svg xmlns=\"http://www.w3.org/2000/svg\" height=\"24px\"viewBox=\"0 0 24 24\"\n",
              "     width=\"24px\">\n",
              "    <g>\n",
              "        <path d=\"M19 3H5c-1.1 0-2 .9-2 2v14c0 1.1.9 2 2 2h14c1.1 0 2-.9 2-2V5c0-1.1-.9-2-2-2zM9 17H7v-7h2v7zm4 0h-2V7h2v10zm4 0h-2v-4h2v4z\"/>\n",
              "    </g>\n",
              "</svg>\n",
              "  </button>\n",
              "\n",
              "<style>\n",
              "  .colab-df-quickchart {\n",
              "      --bg-color: #E8F0FE;\n",
              "      --fill-color: #1967D2;\n",
              "      --hover-bg-color: #E2EBFA;\n",
              "      --hover-fill-color: #174EA6;\n",
              "      --disabled-fill-color: #AAA;\n",
              "      --disabled-bg-color: #DDD;\n",
              "  }\n",
              "\n",
              "  [theme=dark] .colab-df-quickchart {\n",
              "      --bg-color: #3B4455;\n",
              "      --fill-color: #D2E3FC;\n",
              "      --hover-bg-color: #434B5C;\n",
              "      --hover-fill-color: #FFFFFF;\n",
              "      --disabled-bg-color: #3B4455;\n",
              "      --disabled-fill-color: #666;\n",
              "  }\n",
              "\n",
              "  .colab-df-quickchart {\n",
              "    background-color: var(--bg-color);\n",
              "    border: none;\n",
              "    border-radius: 50%;\n",
              "    cursor: pointer;\n",
              "    display: none;\n",
              "    fill: var(--fill-color);\n",
              "    height: 32px;\n",
              "    padding: 0;\n",
              "    width: 32px;\n",
              "  }\n",
              "\n",
              "  .colab-df-quickchart:hover {\n",
              "    background-color: var(--hover-bg-color);\n",
              "    box-shadow: 0 1px 2px rgba(60, 64, 67, 0.3), 0 1px 3px 1px rgba(60, 64, 67, 0.15);\n",
              "    fill: var(--button-hover-fill-color);\n",
              "  }\n",
              "\n",
              "  .colab-df-quickchart-complete:disabled,\n",
              "  .colab-df-quickchart-complete:disabled:hover {\n",
              "    background-color: var(--disabled-bg-color);\n",
              "    fill: var(--disabled-fill-color);\n",
              "    box-shadow: none;\n",
              "  }\n",
              "\n",
              "  .colab-df-spinner {\n",
              "    border: 2px solid var(--fill-color);\n",
              "    border-color: transparent;\n",
              "    border-bottom-color: var(--fill-color);\n",
              "    animation:\n",
              "      spin 1s steps(1) infinite;\n",
              "  }\n",
              "\n",
              "  @keyframes spin {\n",
              "    0% {\n",
              "      border-color: transparent;\n",
              "      border-bottom-color: var(--fill-color);\n",
              "      border-left-color: var(--fill-color);\n",
              "    }\n",
              "    20% {\n",
              "      border-color: transparent;\n",
              "      border-left-color: var(--fill-color);\n",
              "      border-top-color: var(--fill-color);\n",
              "    }\n",
              "    30% {\n",
              "      border-color: transparent;\n",
              "      border-left-color: var(--fill-color);\n",
              "      border-top-color: var(--fill-color);\n",
              "      border-right-color: var(--fill-color);\n",
              "    }\n",
              "    40% {\n",
              "      border-color: transparent;\n",
              "      border-right-color: var(--fill-color);\n",
              "      border-top-color: var(--fill-color);\n",
              "    }\n",
              "    60% {\n",
              "      border-color: transparent;\n",
              "      border-right-color: var(--fill-color);\n",
              "    }\n",
              "    80% {\n",
              "      border-color: transparent;\n",
              "      border-right-color: var(--fill-color);\n",
              "      border-bottom-color: var(--fill-color);\n",
              "    }\n",
              "    90% {\n",
              "      border-color: transparent;\n",
              "      border-bottom-color: var(--fill-color);\n",
              "    }\n",
              "  }\n",
              "</style>\n",
              "\n",
              "  <script>\n",
              "    async function quickchart(key) {\n",
              "      const quickchartButtonEl =\n",
              "        document.querySelector('#' + key + ' button');\n",
              "      quickchartButtonEl.disabled = true;  // To prevent multiple clicks.\n",
              "      quickchartButtonEl.classList.add('colab-df-spinner');\n",
              "      try {\n",
              "        const charts = await google.colab.kernel.invokeFunction(\n",
              "            'suggestCharts', [key], {});\n",
              "      } catch (error) {\n",
              "        console.error('Error during call to suggestCharts:', error);\n",
              "      }\n",
              "      quickchartButtonEl.classList.remove('colab-df-spinner');\n",
              "      quickchartButtonEl.classList.add('colab-df-quickchart-complete');\n",
              "    }\n",
              "    (() => {\n",
              "      let quickchartButtonEl =\n",
              "        document.querySelector('#df-8c0cf4f3-c6b2-4cdf-ba0e-edc31d7cf0e5 button');\n",
              "      quickchartButtonEl.style.display =\n",
              "        google.colab.kernel.accessAllowed ? 'block' : 'none';\n",
              "    })();\n",
              "  </script>\n",
              "</div>\n",
              "\n",
              "    </div>\n",
              "  </div>\n"
            ]
          },
          "metadata": {},
          "execution_count": 15
        }
      ]
    },
    {
      "cell_type": "code",
      "source": [
        "plt.plot(df)"
      ],
      "metadata": {
        "colab": {
          "base_uri": "https://localhost:8080/",
          "height": 448
        },
        "id": "dyVY_bZOM6qi",
        "outputId": "319a9bb2-ad88-4896-fc8c-c782ddb02f84"
      },
      "execution_count": 16,
      "outputs": [
        {
          "output_type": "execute_result",
          "data": {
            "text/plain": [
              "[<matplotlib.lines.Line2D at 0x799005755a20>]"
            ]
          },
          "metadata": {},
          "execution_count": 16
        },
        {
          "output_type": "display_data",
          "data": {
            "text/plain": [
              "<Figure size 640x480 with 1 Axes>"
            ],
            "image/png": "[encoded data removed]"
          },
          "metadata": {}
        }
      ]
    },
    {
      "cell_type": "code",
      "source": [
        "dataset = df.values.astype('float32')"
      ],
      "metadata": {
        "id": "6flL6opPNNxh"
      },
      "execution_count": 17,
      "outputs": []
    },
    {
      "cell_type": "code",
      "source": [
        "train_size = int(len(dataset) * 0.90)\n",
        "test_size = len(dataset) - train_size\n",
        "train, test = dataset[0:train_size,:], dataset[train_size:len(dataset),:]"
      ],
      "metadata": {
        "id": "noEJryfONcY8"
      },
      "execution_count": 18,
      "outputs": []
    },
    {
      "cell_type": "code",
      "source": [
        "#Use TimeseriesGenerator to organize training data into the right format\n",
        "from keras.preprocessing.sequence import TimeseriesGenerator # Generates batches for sequence data\n",
        "seq_size = length = 45\n",
        "batch_size = 1\n",
        "train_generator = TimeseriesGenerator(train,train,length=length,batch_size=batch_size)\n",
        "print(\"Total number of samples in the original training data = \", len(train))\n",
        "print(\"Total number of samples in the generated data = \", len(train_generator))"
      ],
      "metadata": {
        "colab": {
          "base_uri": "https://localhost:8080/"
        },
        "id": "36hWiscaNx2Y",
        "outputId": "9a8a7117-e2d0-4434-ae97-5adf88ee75ca"
      },
      "execution_count": 19,
      "outputs": [
        {
          "output_type": "stream",
          "name": "stdout",
          "text": [
            "Total number of samples in the original training data =  3355\n",
            "Total number of samples in the generated data =  3310\n"
          ]
        }
      ]
    },
    {
      "cell_type": "code",
      "source": [
        "x, y = train_generator[0]"
      ],
      "metadata": {
        "id": "mEt9_Wh0OXG7"
      },
      "execution_count": 20,
      "outputs": []
    },
    {
      "cell_type": "code",
      "source": [
        "# prompt: print x, y\n",
        "\n",
        "print(x, y)\n"
      ],
      "metadata": {
        "colab": {
          "base_uri": "https://localhost:8080/"
        },
        "id": "VkaOGoIiOmAx",
        "outputId": "e353d59f-6ba8-47a5-e79b-32c65a0c3721"
      },
      "execution_count": 21,
      "outputs": [
        {
          "output_type": "stream",
          "name": "stdout",
          "text": [
            "[[[7.  ]\n",
            "  [7.1 ]\n",
            "  [7.  ]\n",
            "  [6.9 ]\n",
            "  [6.95]\n",
            "  [6.85]\n",
            "  [6.8 ]\n",
            "  [6.6 ]\n",
            "  [6.4 ]\n",
            "  [6.3 ]\n",
            "  [6.4 ]\n",
            "  [5.2 ]\n",
            "  [6.  ]\n",
            "  [5.9 ]\n",
            "  [5.7 ]\n",
            "  [5.25]\n",
            "  [5.  ]\n",
            "  [4.95]\n",
            "  [5.  ]\n",
            "  [4.8 ]\n",
            "  [4.6 ]\n",
            "  [4.7 ]\n",
            "  [4.65]\n",
            "  [4.9 ]\n",
            "  [4.9 ]\n",
            "  [4.7 ]\n",
            "  [4.65]\n",
            "  [4.75]\n",
            "  [4.55]\n",
            "  [4.4 ]\n",
            "  [4.5 ]\n",
            "  [4.65]\n",
            "  [4.55]\n",
            "  [4.6 ]\n",
            "  [4.7 ]\n",
            "  [4.75]\n",
            "  [4.8 ]\n",
            "  [4.7 ]\n",
            "  [4.6 ]\n",
            "  [4.7 ]\n",
            "  [4.4 ]\n",
            "  [4.4 ]\n",
            "  [4.3 ]\n",
            "  [4.5 ]\n",
            "  [4.4 ]]] [[4.35]]\n"
          ]
        }
      ]
    },
    {
      "cell_type": "code",
      "source": [
        "validation_generator = TimeseriesGenerator(test, test, length=length ,batch_size=batch_size)"
      ],
      "metadata": {
        "id": "4AnumnRXPfQU"
      },
      "execution_count": 22,
      "outputs": []
    },
    {
      "cell_type": "code",
      "source": [
        "print(len(validation_generator))"
      ],
      "metadata": {
        "colab": {
          "base_uri": "https://localhost:8080/"
        },
        "id": "szzeQpuUQK_V",
        "outputId": "1906fc56-3724-4d86-af73-1e839a670d36"
      },
      "execution_count": 27,
      "outputs": [
        {
          "output_type": "stream",
          "name": "stdout",
          "text": [
            "328\n"
          ]
        }
      ]
    },
    {
      "cell_type": "code",
      "source": [
        "x, y = validation_generator[327]"
      ],
      "metadata": {
        "id": "H_XSPc7lPovZ"
      },
      "execution_count": 32,
      "outputs": []
    },
    {
      "cell_type": "code",
      "source": [
        "print (x,y)"
      ],
      "metadata": {
        "colab": {
          "base_uri": "https://localhost:8080/"
        },
        "id": "W6CkvkyuPsI9",
        "outputId": "788db6d9-f9aa-4c4a-d4f6-e4528be4cc34"
      },
      "execution_count": 33,
      "outputs": [
        {
          "output_type": "stream",
          "name": "stdout",
          "text": [
            "[[[15.782]\n",
            "  [15.349]\n",
            "  [16.774]\n",
            "  [18.345]\n",
            "  [17.575]\n",
            "  [19.055]\n",
            "  [17.905]\n",
            "  [18.705]\n",
            "  [18.044]\n",
            "  [18.54 ]\n",
            "  [17.764]\n",
            "  [17.55 ]\n",
            "  [17.575]\n",
            "  [18.42 ]\n",
            "  [17.319]\n",
            "  [16.044]\n",
            "  [16.299]\n",
            "  [16.367]\n",
            "  [15.807]\n",
            "  [15.562]\n",
            "  [15.621]\n",
            "  [15.541]\n",
            "  [15.962]\n",
            "  [15.691]\n",
            "  [16.56 ]\n",
            "  [17.225]\n",
            "  [17.3  ]\n",
            "  [17.638]\n",
            "  [16.707]\n",
            "  [16.211]\n",
            "  [16.733]\n",
            "  [16.79 ]\n",
            "  [16.067]\n",
            "  [15.636]\n",
            "  [15.797]\n",
            "  [15.278]\n",
            "  [15.785]\n",
            "  [15.492]\n",
            "  [14.908]\n",
            "  [15.048]\n",
            "  [15.097]\n",
            "  [14.764]\n",
            "  [12.79 ]\n",
            "  [12.562]\n",
            "  [11.788]]] [[12.266]]\n"
          ]
        }
      ]
    },
    {
      "cell_type": "code",
      "source": [
        "num_features = 1\n",
        "model = Sequential()\n",
        "model.add(LSTM(50, activation='relu', return_sequences=True, input_shape=(length, num_features)))\n",
        "model.add(LSTM(50, activation='relu'))\n",
        "#model.add(Dense(32))\n",
        "model.add(Dense(1))\n",
        "model.compile(optimizer='adam', loss='mean_squared_error')\n",
        "\n",
        "model.summary()\n",
        "print('Train...')"
      ],
      "metadata": {
        "colab": {
          "base_uri": "https://localhost:8080/"
        },
        "id": "VP0j667xQeyr",
        "outputId": "c573c675-edff-497b-c8b1-f38b6bc4974d"
      },
      "execution_count": 34,
      "outputs": [
        {
          "output_type": "stream",
          "name": "stdout",
          "text": [
            "Model: \"sequential\"\n",
            "_________________________________________________________________\n",
            " Layer (type)                Output Shape              Param #   \n",
            "=================================================================\n",
            " lstm (LSTM)                 (None, 45, 50)            10400     \n",
            "                                                                 \n",
            " lstm_1 (LSTM)               (None, 50)                20200     \n",
            "                                                                 \n",
            " dense (Dense)               (None, 1)                 51        \n",
            "                                                                 \n",
            "=================================================================\n",
            "Total params: 30651 (119.73 KB)\n",
            "Trainable params: 30651 (119.73 KB)\n",
            "Non-trainable params: 0 (0.00 Byte)\n",
            "_________________________________________________________________\n",
            "Train...\n"
          ]
        }
      ]
    },
    {
      "cell_type": "code",
      "source": [
        "model.fit_generator(generator=train_generator, verbose=2, epochs=100, validation_data=validation_generator)"
      ],
      "metadata": {
        "colab": {
          "base_uri": "https://localhost:8080/"
        },
        "id": "iIaLWvCTRMiy",
        "outputId": "2ecf23b8-49f0-4b0a-9cf3-cc24727a2b36"
      },
      "execution_count": 35,
      "outputs": [
        {
          "output_type": "stream",
          "name": "stdout",
          "text": [
            "Epoch 1/100\n"
          ]
        },
        {
          "output_type": "stream",
          "name": "stderr",
          "text": [
            "<ipython-input-35-daaa088ad6be>:1: UserWarning: `Model.fit_generator` is deprecated and will be removed in a future version. Please use `Model.fit`, which supports generators.\n",
            "  model.fit_generator(generator=train_generator, verbose=2, epochs=100, validation_data=validation_generator)\n"
          ]
        },
        {
          "output_type": "stream",
          "name": "stdout",
          "text": [
            "3310/3310 - 100s - loss: 18956.7266 - val_loss: 153.0121 - 100s/epoch - 30ms/step\n",
            "Epoch 2/100\n",
            "3310/3310 - 97s - loss: 25.3759 - val_loss: 282.6272 - 97s/epoch - 29ms/step\n",
            "Epoch 3/100\n",
            "3310/3310 - 95s - loss: 36.0746 - val_loss: 60.2429 - 95s/epoch - 29ms/step\n",
            "Epoch 4/100\n",
            "3310/3310 - 99s - loss: 83.5208 - val_loss: 119.5858 - 99s/epoch - 30ms/step\n",
            "Epoch 5/100\n",
            "3310/3310 - 95s - loss: 910.5273 - val_loss: 111.6358 - 95s/epoch - 29ms/step\n",
            "Epoch 6/100\n",
            "3310/3310 - 98s - loss: 5917.0537 - val_loss: 196.4208 - 98s/epoch - 30ms/step\n",
            "Epoch 7/100\n",
            "3310/3310 - 95s - loss: 16540.1562 - val_loss: 7837.1919 - 95s/epoch - 29ms/step\n",
            "Epoch 8/100\n",
            "3310/3310 - 96s - loss: 302.6989 - val_loss: 400.6119 - 96s/epoch - 29ms/step\n",
            "Epoch 9/100\n",
            "3310/3310 - 98s - loss: 30.2702 - val_loss: 104.6262 - 98s/epoch - 30ms/step\n",
            "Epoch 10/100\n",
            "3310/3310 - 95s - loss: 12.1044 - val_loss: 44.9571 - 95s/epoch - 29ms/step\n",
            "Epoch 11/100\n",
            "3310/3310 - 96s - loss: 9.4575 - val_loss: 22.0417 - 96s/epoch - 29ms/step\n",
            "Epoch 12/100\n",
            "3310/3310 - 99s - loss: 6.7760 - val_loss: 12.8738 - 99s/epoch - 30ms/step\n",
            "Epoch 13/100\n",
            "3310/3310 - 97s - loss: 6.1234 - val_loss: 15.1643 - 97s/epoch - 29ms/step\n",
            "Epoch 14/100\n",
            "3310/3310 - 96s - loss: 5.3010 - val_loss: 12.2135 - 96s/epoch - 29ms/step\n",
            "Epoch 15/100\n",
            "3310/3310 - 98s - loss: 37.6002 - val_loss: 45.6087 - 98s/epoch - 30ms/step\n",
            "Epoch 16/100\n",
            "3310/3310 - 97s - loss: 4.5296 - val_loss: 32.7396 - 97s/epoch - 29ms/step\n",
            "Epoch 17/100\n",
            "3310/3310 - 98s - loss: 5.0844 - val_loss: 20.9264 - 98s/epoch - 30ms/step\n",
            "Epoch 18/100\n",
            "3310/3310 - 96s - loss: 3.2994 - val_loss: 19.3105 - 96s/epoch - 29ms/step\n",
            "Epoch 19/100\n",
            "3310/3310 - 96s - loss: 2.8360 - val_loss: 32.6057 - 96s/epoch - 29ms/step\n",
            "Epoch 20/100\n",
            "3310/3310 - 100s - loss: 3.5946 - val_loss: 7.1132 - 100s/epoch - 30ms/step\n",
            "Epoch 21/100\n",
            "3310/3310 - 96s - loss: 2.5264 - val_loss: 5.6281 - 96s/epoch - 29ms/step\n",
            "Epoch 22/100\n",
            "3310/3310 - 96s - loss: 30.0075 - val_loss: 28.8924 - 96s/epoch - 29ms/step\n",
            "Epoch 23/100\n",
            "3310/3310 - 99s - loss: 4.2649 - val_loss: 15.4858 - 99s/epoch - 30ms/step\n",
            "Epoch 24/100\n",
            "3310/3310 - 96s - loss: 2.9730 - val_loss: 10.3417 - 96s/epoch - 29ms/step\n",
            "Epoch 25/100\n",
            "3310/3310 - 95s - loss: 3.4120 - val_loss: 9.5404 - 95s/epoch - 29ms/step\n",
            "Epoch 26/100\n",
            "3310/3310 - 102s - loss: 3.8729 - val_loss: 13.0573 - 102s/epoch - 31ms/step\n",
            "Epoch 27/100\n",
            "3310/3310 - 95s - loss: 2.8817 - val_loss: 13.5555 - 95s/epoch - 29ms/step\n",
            "Epoch 28/100\n",
            "3310/3310 - 94s - loss: 7.7214 - val_loss: 25.8340 - 94s/epoch - 28ms/step\n",
            "Epoch 29/100\n",
            "3310/3310 - 94s - loss: 2.4101 - val_loss: 5.0184 - 94s/epoch - 29ms/step\n",
            "Epoch 30/100\n",
            "3310/3310 - 93s - loss: 9.6761 - val_loss: 88.8931 - 93s/epoch - 28ms/step\n",
            "Epoch 31/100\n",
            "3310/3310 - 94s - loss: 1404.9600 - val_loss: 63.5849 - 94s/epoch - 28ms/step\n",
            "Epoch 32/100\n",
            "3310/3310 - 96s - loss: 8.2306 - val_loss: 14.9586 - 96s/epoch - 29ms/step\n",
            "Epoch 33/100\n",
            "3310/3310 - 94s - loss: 3.2113 - val_loss: 15.4228 - 94s/epoch - 29ms/step\n",
            "Epoch 34/100\n",
            "3310/3310 - 94s - loss: 2.6071 - val_loss: 6.4924 - 94s/epoch - 28ms/step\n",
            "Epoch 35/100\n",
            "3310/3310 - 96s - loss: 2.4318 - val_loss: 7.8361 - 96s/epoch - 29ms/step\n",
            "Epoch 36/100\n",
            "3310/3310 - 94s - loss: 2.2190 - val_loss: 11.0280 - 94s/epoch - 28ms/step\n",
            "Epoch 37/100\n",
            "3310/3310 - 94s - loss: 212.5689 - val_loss: 263.3104 - 94s/epoch - 28ms/step\n",
            "Epoch 38/100\n",
            "3310/3310 - 94s - loss: 37.5884 - val_loss: 39.9381 - 94s/epoch - 28ms/step\n",
            "Epoch 39/100\n",
            "3310/3310 - 97s - loss: 857.5529 - val_loss: 7703.8481 - 97s/epoch - 29ms/step\n",
            "Epoch 40/100\n",
            "3310/3310 - 94s - loss: 12835292.0000 - val_loss: 1255133.7500 - 94s/epoch - 29ms/step\n",
            "Epoch 41/100\n",
            "3310/3310 - 94s - loss: 10508050.0000 - val_loss: 7808652.5000 - 94s/epoch - 28ms/step\n",
            "Epoch 42/100\n",
            "3310/3310 - 97s - loss: 5281932.5000 - val_loss: 1243282.8750 - 97s/epoch - 29ms/step\n",
            "Epoch 43/100\n",
            "3310/3310 - 95s - loss: 86564.4062 - val_loss: 161909.2812 - 95s/epoch - 29ms/step\n",
            "Epoch 44/100\n",
            "3310/3310 - 98s - loss: 3816.4546 - val_loss: 221.4284 - 98s/epoch - 30ms/step\n",
            "Epoch 45/100\n",
            "3310/3310 - 95s - loss: 35.7092 - val_loss: 93.7965 - 95s/epoch - 29ms/step\n",
            "Epoch 46/100\n",
            "3310/3310 - 95s - loss: 23.5473 - val_loss: 86.8827 - 95s/epoch - 29ms/step\n",
            "Epoch 47/100\n",
            "3310/3310 - 95s - loss: 17.5700 - val_loss: 72.0713 - 95s/epoch - 29ms/step\n",
            "Epoch 48/100\n",
            "3310/3310 - 94s - loss: 31.2882 - val_loss: 498.8047 - 94s/epoch - 29ms/step\n",
            "Epoch 49/100\n",
            "3310/3310 - 94s - loss: 25.0764 - val_loss: 3552.0046 - 94s/epoch - 28ms/step\n",
            "Epoch 50/100\n",
            "3310/3310 - 97s - loss: 204.7285 - val_loss: 68.0943 - 97s/epoch - 29ms/step\n",
            "Epoch 51/100\n",
            "3310/3310 - 96s - loss: 51.3031 - val_loss: 115.9451 - 96s/epoch - 29ms/step\n",
            "Epoch 52/100\n",
            "3310/3310 - 98s - loss: 4513.9546 - val_loss: 91.3988 - 98s/epoch - 30ms/step\n",
            "Epoch 53/100\n",
            "3310/3310 - 96s - loss: 20.6413 - val_loss: 61.9709 - 96s/epoch - 29ms/step\n",
            "Epoch 54/100\n",
            "3310/3310 - 95s - loss: 16.9081 - val_loss: 228.2754 - 95s/epoch - 29ms/step\n",
            "Epoch 55/100\n",
            "3310/3310 - 96s - loss: 9834.2705 - val_loss: 98.3010 - 96s/epoch - 29ms/step\n",
            "Epoch 56/100\n",
            "3310/3310 - 93s - loss: 20822863872.0000 - val_loss: 164793936.0000 - 93s/epoch - 28ms/step\n",
            "Epoch 57/100\n",
            "3310/3310 - 93s - loss: 124007.7344 - val_loss: 160675.0312 - 93s/epoch - 28ms/step\n",
            "Epoch 58/100\n",
            "3310/3310 - 93s - loss: 2723160.0000 - val_loss: 33510.6406 - 93s/epoch - 28ms/step\n",
            "Epoch 59/100\n",
            "3310/3310 - 93s - loss: 4798.2988 - val_loss: 4030.9504 - 93s/epoch - 28ms/step\n",
            "Epoch 60/100\n",
            "3310/3310 - 94s - loss: 2589.0481 - val_loss: 879.2894 - 94s/epoch - 28ms/step\n",
            "Epoch 61/100\n",
            "3310/3310 - 94s - loss: 3579.3960 - val_loss: 379.6462 - 94s/epoch - 28ms/step\n",
            "Epoch 62/100\n",
            "3310/3310 - 99s - loss: 431.8520 - val_loss: 8293.6719 - 99s/epoch - 30ms/step\n",
            "Epoch 63/100\n",
            "3310/3310 - 94s - loss: 90450344.0000 - val_loss: 105.3047 - 94s/epoch - 28ms/step\n",
            "Epoch 64/100\n",
            "3310/3310 - 94s - loss: 45.0688 - val_loss: 130.6147 - 94s/epoch - 28ms/step\n",
            "Epoch 65/100\n",
            "3310/3310 - 94s - loss: 1015928960.0000 - val_loss: 6052.6729 - 94s/epoch - 28ms/step\n",
            "Epoch 66/100\n",
            "3310/3310 - 97s - loss: 15622.9990 - val_loss: 996.9445 - 97s/epoch - 29ms/step\n",
            "Epoch 67/100\n",
            "3310/3310 - 98s - loss: 305.0681 - val_loss: 990.3179 - 98s/epoch - 30ms/step\n",
            "Epoch 68/100\n",
            "3310/3310 - 94s - loss: 229.8465 - val_loss: 308.1404 - 94s/epoch - 28ms/step\n",
            "Epoch 69/100\n",
            "3310/3310 - 94s - loss: 164.1341 - val_loss: 288.4005 - 94s/epoch - 28ms/step\n",
            "Epoch 70/100\n",
            "3310/3310 - 92s - loss: 34.3237 - val_loss: 71.9180 - 92s/epoch - 28ms/step\n",
            "Epoch 71/100\n",
            "3310/3310 - 94s - loss: 13.6189 - val_loss: 62.9935 - 94s/epoch - 28ms/step\n",
            "Epoch 72/100\n",
            "3310/3310 - 95s - loss: 2329558.2500 - val_loss: 2709.4131 - 95s/epoch - 29ms/step\n",
            "Epoch 73/100\n",
            "3310/3310 - 96s - loss: 91.2580 - val_loss: 84.2697 - 96s/epoch - 29ms/step\n",
            "Epoch 74/100\n",
            "3310/3310 - 96s - loss: 16.8448 - val_loss: 79.1654 - 96s/epoch - 29ms/step\n",
            "Epoch 75/100\n",
            "3310/3310 - 95s - loss: 92367.9453 - val_loss: 25032.1016 - 95s/epoch - 29ms/step\n",
            "Epoch 76/100\n",
            "3310/3310 - 95s - loss: 46155.1406 - val_loss: 226.7347 - 95s/epoch - 29ms/step\n",
            "Epoch 77/100\n",
            "3310/3310 - 97s - loss: 23.5514 - val_loss: 73.1920 - 97s/epoch - 29ms/step\n",
            "Epoch 78/100\n",
            "3310/3310 - 97s - loss: 28.4699 - val_loss: 101.6107 - 97s/epoch - 29ms/step\n",
            "Epoch 79/100\n",
            "3310/3310 - 101s - loss: 23.3566 - val_loss: 170.3883 - 101s/epoch - 31ms/step\n",
            "Epoch 80/100\n",
            "3310/3310 - 95s - loss: 10392.4131 - val_loss: 2788.8118 - 95s/epoch - 29ms/step\n",
            "Epoch 81/100\n",
            "3310/3310 - 95s - loss: 264.2516 - val_loss: 111.8097 - 95s/epoch - 29ms/step\n",
            "Epoch 82/100\n",
            "3310/3310 - 97s - loss: 23.0838 - val_loss: 182.2287 - 97s/epoch - 29ms/step\n",
            "Epoch 83/100\n",
            "3310/3310 - 96s - loss: 22.4929 - val_loss: 171.5469 - 96s/epoch - 29ms/step\n",
            "Epoch 84/100\n",
            "3310/3310 - 98s - loss: 52.8151 - val_loss: 101.5429 - 98s/epoch - 30ms/step\n",
            "Epoch 85/100\n",
            "3310/3310 - 94s - loss: 19.3531 - val_loss: 106.1536 - 94s/epoch - 28ms/step\n",
            "Epoch 86/100\n",
            "3310/3310 - 93s - loss: 18.4850 - val_loss: 102.3980 - 93s/epoch - 28ms/step\n",
            "Epoch 87/100\n",
            "3310/3310 - 94s - loss: 20.2035 - val_loss: 89.8148 - 94s/epoch - 28ms/step\n",
            "Epoch 88/100\n",
            "3310/3310 - 95s - loss: 19.0200 - val_loss: 83.7230 - 95s/epoch - 29ms/step\n",
            "Epoch 89/100\n",
            "3310/3310 - 94s - loss: 435736672.0000 - val_loss: 80.1578 - 94s/epoch - 29ms/step\n",
            "Epoch 90/100\n",
            "3310/3310 - 94s - loss: 15.9998 - val_loss: 66.4126 - 94s/epoch - 28ms/step\n",
            "Epoch 91/100\n",
            "3310/3310 - 97s - loss: 15.1928 - val_loss: 69.4162 - 97s/epoch - 29ms/step\n",
            "Epoch 92/100\n",
            "3310/3310 - 94s - loss: 15.2310 - val_loss: 60.4516 - 94s/epoch - 28ms/step\n",
            "Epoch 93/100\n",
            "3310/3310 - 92s - loss: 14.9328 - val_loss: 58.8088 - 92s/epoch - 28ms/step\n",
            "Epoch 94/100\n",
            "3310/3310 - 92s - loss: 14.9515 - val_loss: 58.6004 - 92s/epoch - 28ms/step\n",
            "Epoch 95/100\n",
            "3310/3310 - 94s - loss: 14.8182 - val_loss: 62.3860 - 94s/epoch - 28ms/step\n",
            "Epoch 96/100\n",
            "3310/3310 - 94s - loss: 14.8300 - val_loss: 55.3169 - 94s/epoch - 29ms/step\n",
            "Epoch 97/100\n",
            "3310/3310 - 94s - loss: 15.0240 - val_loss: 56.6493 - 94s/epoch - 28ms/step\n",
            "Epoch 98/100\n",
            "3310/3310 - 94s - loss: 3124610.0000 - val_loss: 98.6901 - 94s/epoch - 29ms/step\n",
            "Epoch 99/100\n",
            "3310/3310 - 95s - loss: 21.6077 - val_loss: 83.5401 - 95s/epoch - 29ms/step\n",
            "Epoch 100/100\n",
            "3310/3310 - 94s - loss: 17.1468 - val_loss: 60.8363 - 94s/epoch - 28ms/step\n"
          ]
        },
        {
          "output_type": "execute_result",
          "data": {
            "text/plain": [
              "<keras.src.callbacks.History at 0x798fff68d330>"
            ]
          },
          "metadata": {},
          "execution_count": 35
        }
      ]
    },
    {
      "cell_type": "code",
      "source": [
        "trainPredict = model.predict(train_generator)\n",
        "testPredict = model.predict(validation_generator)"
      ],
      "metadata": {
        "colab": {
          "base_uri": "https://localhost:8080/"
        },
        "id": "jBzcIRIP-f5p",
        "outputId": "b1983e4a-b0ec-4215-d72f-e8e81387877f"
      },
      "execution_count": 36,
      "outputs": [
        {
          "output_type": "stream",
          "name": "stdout",
          "text": [
            "3310/3310 [==============================] - 26s 8ms/step\n",
            "328/328 [==============================] - 2s 7ms/step\n"
          ]
        }
      ]
    },
    {
      "cell_type": "code",
      "source": [
        "trainScore = math.sqrt(mean_squared_error(train[length:], trainPredict[:,0]))\n",
        "print('Train Score: %.2f RMSE' % (trainScore))\n",
        "\n",
        "testScore = math.sqrt(mean_squared_error(test[length:], testPredict[:,0]))\n",
        "print('Test Score: %.2f RMSE' % (testScore))"
      ],
      "metadata": {
        "colab": {
          "base_uri": "https://localhost:8080/"
        },
        "id": "iBvZUdhC-1hF",
        "outputId": "aea29c05-4cc1-44f8-ea5e-7bb398569a64"
      },
      "execution_count": 37,
      "outputs": [
        {
          "output_type": "stream",
          "name": "stdout",
          "text": [
            "Train Score: 3.68 RMSE\n",
            "Test Score: 7.80 RMSE\n"
          ]
        }
      ]
    },
    {
      "cell_type": "code",
      "source": [
        "# prompt: print size of dataset\n",
        "\n",
        "print(len(dataset), len(trainPredict), len(testPredict))\n"
      ],
      "metadata": {
        "colab": {
          "base_uri": "https://localhost:8080/"
        },
        "id": "hueyoAXJBOP-",
        "outputId": "4cc76148-6f17-4a34-afab-6f40704c0fc3"
      },
      "execution_count": 55,
      "outputs": [
        {
          "output_type": "stream",
          "name": "stdout",
          "text": [
            "3728 3310 328\n"
          ]
        }
      ]
    },
    {
      "cell_type": "code",
      "source": [
        "trainPredictPlot = np.empty_like(dataset)\n",
        "trainPredictPlot[:, :] = np.nan\n",
        "trainPredictPlot[length:len(trainPredict)+length, :] = trainPredict"
      ],
      "metadata": {
        "id": "Dv5LQugp_WGO"
      },
      "execution_count": 46,
      "outputs": []
    },
    {
      "cell_type": "code",
      "source": [
        "testPredictPlot = np.empty_like(dataset)\n",
        "testPredictPlot[:, :] = np.nan\n",
        "testPredictPlot[len(trainPredict)+(seq_size*2)-1:len(dataset)-1, :] = testPredict"
      ],
      "metadata": {
        "id": "6gGybtVv_buo"
      },
      "execution_count": 47,
      "outputs": []
    },
    {
      "cell_type": "code",
      "source": [
        "plt.plot(dataset)\n",
        "plt.plot(trainPredictPlot)\n",
        "plt.plot(testPredictPlot)\n",
        "# plt.plot(trainPredict)\n",
        "# plt.plot(testPredict)\n",
        "plt.show()"
      ],
      "metadata": {
        "colab": {
          "base_uri": "https://localhost:8080/",
          "height": 430
        },
        "id": "FXxQMeU__fod",
        "outputId": "8d29351a-6190-43c0-cec7-fc1bd3eccc54"
      },
      "execution_count": 48,
      "outputs": [
        {
          "output_type": "display_data",
          "data": {
            "text/plain": [
              "<Figure size 640x480 with 1 Axes>"
            ],
            "image/png": "[encoded data removed]"
          },
          "metadata": {}
        }
      ]
    }
  ]
}